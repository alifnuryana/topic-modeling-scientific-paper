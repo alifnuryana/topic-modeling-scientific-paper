{
 "cells": [
  {
   "metadata": {},
   "cell_type": "code",
   "source": [
    "from sklearn.feature_extraction.text import CountVectorizer\n",
    "from sentence_transformers import SentenceTransformer\n",
    "from bertopic.representation import KeyBERTInspired\n",
    "from tqdm import tqdm, trange\n",
    "from bertopic import BERTopic\n",
    "from hdbscan import HDBSCAN\n",
    "from umap import UMAP\n",
    "import pandas as pd\n",
    "import numpy as np"
   ],
   "id": "8c2735d0e91850f7",
   "outputs": [],
   "execution_count": null
  },
  {
   "metadata": {},
   "cell_type": "code",
   "source": "umap_reducer = UMAP(n_neighbors=15, n_components=5, metric='cosine', min_dist=0.0)",
   "id": "24f3c255c01444f8",
   "outputs": [],
   "execution_count": null
  },
  {
   "metadata": {},
   "cell_type": "code",
   "source": [
    "hdbscan_clusterer = HDBSCAN(min_cluster_size=150, metric='euclidean', cluster_selection_method='eom',\n",
    "                            prediction_data=True)"
   ],
   "id": "aa0da231d0eeb4c6",
   "outputs": [],
   "execution_count": null
  },
  {
   "metadata": {},
   "cell_type": "code",
   "source": "vectorizer_model = CountVectorizer(min_df=0.20, ngram_range=(1, 2))",
   "id": "d645e15dc2a4efdd",
   "outputs": [],
   "execution_count": null
  },
  {
   "metadata": {},
   "cell_type": "code",
   "source": [
    "keybert_model = KeyBERTInspired()\n",
    "\n",
    "representation_model = {\n",
    "    \"KeyBERT\": keybert_model,\n",
    "}"
   ],
   "id": "f4ea74594c0e53cf",
   "outputs": [],
   "execution_count": null
  },
  {
   "metadata": {},
   "cell_type": "code",
   "source": [
    "topic_model = BERTopic(\n",
    "    language='multilingual',\n",
    "\n",
    "    # Pipeline models\n",
    "    embedding_model=SentenceTransformer(model_name_or_path='paraphrase-multilingual-MiniLM-L12-v2'),\n",
    "    # umap_model=umap_reducer,\n",
    "    # hdbscan_model=hdbscan_clusterer,\n",
    "    vectorizer_model=vectorizer_model,\n",
    "    representation_model=representation_model,\n",
    "\n",
    "    # Hyperparameters\n",
    "    top_n_words=10,\n",
    "    verbose=True,\n",
    ")"
   ],
   "id": "2c41e996086b264",
   "outputs": [],
   "execution_count": null
  },
  {
   "metadata": {},
   "cell_type": "code",
   "source": [
    "prefix_dataset = 'teknik-informatika'\n",
    "\n",
    "data = pd.read_csv(f'../data/preprocessed/{prefix_dataset}-preprocessed.csv', index_col=0)\n",
    "data = pd.Series(data['abstract'])\n",
    "\n",
    "embeddings = np.load(f'../data/embeddings/{prefix_dataset}.npy')\n",
    "\n",
    "topics, probs = topic_model.fit_transform(data, embeddings)"
   ],
   "id": "d528dace794c4a2",
   "outputs": [],
   "execution_count": null
  },
  {
   "metadata": {},
   "cell_type": "code",
   "source": "topic_model.get_topic_info()",
   "id": "530be26a941c7eb0",
   "outputs": [],
   "execution_count": null
  },
  {
   "metadata": {},
   "cell_type": "code",
   "source": "topic_model.get_topic(-1, full=True)",
   "id": "d8d2d591bfc4bcfc",
   "outputs": [],
   "execution_count": null
  },
  {
   "metadata": {},
   "cell_type": "code",
   "source": "topic_model.visualize_hierarchy(custom_labels=True)",
   "id": "7927ae2eb441e957",
   "outputs": [],
   "execution_count": null
  },
  {
   "metadata": {},
   "cell_type": "code",
   "source": "reduced_embeddings = UMAP(n_neighbors=10, n_components=2, min_dist=0.0, metric='cosine').fit_transform(embeddings)",
   "id": "bdf656b7bde1b1d7",
   "outputs": [],
   "execution_count": null
  },
  {
   "metadata": {},
   "cell_type": "code",
   "source": "topic_model.visualize_documents(data, reduced_embeddings=reduced_embeddings, custom_labels=True)",
   "id": "173c3574083abc74",
   "outputs": [],
   "execution_count": null
  }
 ],
 "metadata": {
  "kernelspec": {
   "display_name": "Python 3",
   "language": "python",
   "name": "python3"
  },
  "language_info": {
   "codemirror_mode": {
    "name": "ipython",
    "version": 2
   },
   "file_extension": ".py",
   "mimetype": "text/x-python",
   "name": "python",
   "nbconvert_exporter": "python",
   "pygments_lexer": "ipython2",
   "version": "2.7.6"
  }
 },
 "nbformat": 4,
 "nbformat_minor": 5
}
